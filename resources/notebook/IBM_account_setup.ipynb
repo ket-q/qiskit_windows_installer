{
 "cells": [
  {
   "cell_type": "markdown",
   "metadata": {},
   "source": [
    "# **QISKIT SETUP GUIDE**\n",
    "\n",
    "Congratulations!\n",
    "\n",
    "If you have made it here, the Qiskit installation on your computer has been accomplished.\n",
    "This Jupyter notebook will walk you through the initial setup and test of your Qiskit environment.\n"
   ]
  },
  {
   "cell_type": "markdown",
   "metadata": {},
   "source": [
    "## **1. Python interpreter selection**\n",
    "For every new Jupyter notebook that uses Qiskit, you will have to select the correct Python interpreter:\n",
    "\n",
    " - In the top-right corner of this window, click on \"Select Kernel\"\n",
    "\n",
    " - Click on \"Python Environments...\"\n",
    "\n",
    " - Click on \"qiskit_1_3_2\"\n",
    "\n",
    "#### **For all other file types, please refer to our GitHub usage section ([link](https://github.com/ket-q/qiskit_windows_installer?tab=readme-ov-file#%EF%B8%8F-usage)).**"
   ]
  },
  {
   "cell_type": "markdown",
   "metadata": {},
   "source": [
    "## **2. Set up access to your IBM Quantum Platform account**\n",
    "Your account on the IBM Quantum Platform provides you with an API token that can be installed on your local computer (specifically, in your user account). The installation is conducted once-and-for-all. It will store the API token on your computer's disk.\n",
    "From there, your Qiskit code can then programmatically retrieve the token to\n",
    "authenticate to the IBM Quantum Platform.\n",
    "This is more convenient than manually copy-pasting your API token into every Jupyter notebook that requires access to the IBM Quantum Platform.\n",
    "\n",
    "The following steps guide you through the set-up of your API token on your local computer.\n",
    "\n",
    "- Log in to your account on the IBM Quantum Platform (https://quantum.ibm.com/).\n",
    "- After login, you are presented with the Quantum Platform **dashboard**.\n",
    "- In the top-right corner of the dashboard, you find a box titled ``**API Token**''.\n",
    "- In the API Token box, please click on the square symbol to copy your API\n",
    "  token to the clipboard.\n",
    "  - Return back to this VS Code window.  \n",
    "- In the Jupyter notebook cell below, **replace the text \"PASTE_YOUR_TOKEN_HERE\"**  by your\n",
    "  API token:\n",
    "  - Delete the text \"PASTE_YOUR_TOKEN_HERE\", but keep the quotes(\"\").\n",
    "  - Place your curser between the quotes and then press CTRL-V to paste your API token.\n",
    "  - Your  your token should now look similar to \"a2aeae5ad48986d4adadcd5f48z4f8zf4q8fds6fsddaudazd54dd7dz49ad69ad\"\n",
    "\n",
    "- **Never share your token or a Jupyter notebook that contains your token.**"
   ]
  },
  {
   "cell_type": "markdown",
   "metadata": {},
   "source": [
    "## **3. Save your API token to disk** \n",
    "\n",
    "The code in the following cell will store your API token on your local computer's disk.\n",
    "\n",
    "- Click on the cell.\n",
    "\n",
    "- Press CTRL + ENTER or the ``run`` button.\n",
    "\n"
   ]
  },
  {
   "cell_type": "code",
   "execution_count": null,
   "metadata": {},
   "outputs": [],
   "source": [
    "from qiskit_ibm_runtime import QiskitRuntimeService\n",
    " \n",
    "# Save an IBM Quantum account to local disk and set it as your default account.\n",
    "QiskitRuntimeService.save_account(\n",
    "    channel=\"ibm_quantum\",\n",
    "    token=\"PASTE_YOUR_TOKEN_HERE\", #REPLACE HERE\n",
    "    set_as_default=True,\n",
    "    # Use `overwrite=True` if you're updating your token.\n",
    "    overwrite=True,\n",
    ")"
   ]
  },
  {
   "cell_type": "markdown",
   "metadata": {},
   "source": [
    "## **4. Test your Qiskit setup**\n",
    "\n",
    "The following notebook cell will test your Qiskit setup by creating a simple circuit and running it on the IBM Quantum Platform. If all goes well, Qiskit will\n",
    "get back to you with a job id and the result data. \n",
    "\n",
    "- Click on the box.\n",
    "\n",
    "- Press (CTRL + ENTER) or the ``run`` button\n",
    "\n",
    "- *It should take at least 30 seconds*"
   ]
  },
  {
   "cell_type": "code",
   "execution_count": null,
   "metadata": {},
   "outputs": [
    {
     "name": "stdout",
     "output_type": "stream",
     "text": [
      "job id: cz0375wm4fz0008685mg\n",
      "PrimitiveResult([SamplerPubResult(data=DataBin(meas=BitArray(<shape=(), num_shots=4096, num_bits=2>)), metadata={'circuit_metadata': {}})], metadata={'execution': {'execution_spans': ExecutionSpans([SliceSpan(<start='2025-02-27 09:42:50', stop='2025-02-27 09:43:02', size=4096>)])}, 'version': 2})\n"
     ]
    }
   ],
   "source": [
    "# Testing setup:\n",
    "from qiskit import QuantumCircuit\n",
    "from qiskit_ibm_runtime import QiskitRuntimeService, SamplerV2 as Sampler\n",
    " \n",
    "# Create empty circuit\n",
    "example_circuit = QuantumCircuit(2)\n",
    "example_circuit.measure_all()\n",
    " \n",
    "# You'll need to specify the credentials when initializing QiskitRuntimeService, if they were not previously saved.\n",
    "service = QiskitRuntimeService()\n",
    "backend = service.least_busy(operational=True, simulator=False)\n",
    " \n",
    "sampler = Sampler(backend)\n",
    "job = sampler.run([example_circuit],shots=1)\n",
    "print(f\"job id: {job.job_id()}\")\n",
    "result = job.result()\n",
    "print(result)"
   ]
  },
  {
   "cell_type": "markdown",
   "metadata": {},
   "source": [
    "## **5. Save this file to your working folder to change your token at any time.**"
   ]
  },
  {
   "cell_type": "markdown",
   "metadata": {},
   "source": [
    "## **6. If you encounter any problems, please refer to our GitHub support section ([link](https://github.com/ket-q/qiskit_windows_installer?tab=readme-ov-file#-faq--support--troubleshooting)).**\n"
   ]
  },
  {
   "cell_type": "markdown",
   "metadata": {},
   "source": []
  }
 ],
 "metadata": {
  "kernelspec": {
   "display_name": "qiskit_1_4_2",
   "language": "python",
   "name": "python3"
  },
  "language_info": {
   "codemirror_mode": {
    "name": "ipython",
    "version": 3
   },
   "file_extension": ".py",
   "mimetype": "text/x-python",
   "name": "python",
   "nbconvert_exporter": "python",
   "pygments_lexer": "ipython3",
   "version": "3.12.2"
  }
 },
 "nbformat": 4,
 "nbformat_minor": 2
}
