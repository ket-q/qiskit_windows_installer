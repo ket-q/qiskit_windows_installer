{
 "cells": [
  {
   "cell_type": "markdown",
   "metadata": {},
   "source": [
    "# **Qiskit Setup Guide**\n",
    "\n",
    "Congratulations!\n",
    "\n",
    "If you have made it here, the Qiskit installation on your computer has been accomplished.\n",
    "This Jupyter notebook will walk you through the initial setup and test of your Qiskit environment.\n"
   ]
  },
  {
   "cell_type": "markdown",
   "metadata": {},
   "source": [
    "## **1. Python Interpreter Selection**\n",
    "For every new Jupyter notebook that uses Qiskit (including this notebook you're viewing right now), you will have to select the correct Python interpreter:\n",
    "\n",
    " 1. In the top-right corner of the notebook window, click on \"Select Kernel\"\n",
    "\n",
    " 2. Click on \"Python Environments...\"\n",
    "\n",
    " 3. In the drop-down list, select the Python environment name that starts with ``qiskit_``, followed by the Qiskit version you chose during installation.\n",
    "    - Example: If during installation you chose version 1.4.2, your Python environment name will be ``qiskit_1_4_2``.\n",
    "    \n",
    "    - **Note:** It is **essential** to select the **correct** Python environment. VS Code may offer several alternative Python environments to you, but only the one starting with ``qiskit_`` contains your Qiskit installation.\n",
    "\n",
    "To select the Python interpreter for other file types, e.g., Python ``.py`` files, please refer to our GitHub usage section ([link](https://github.com/ket-q/qiskit_windows_installer?tab=readme-ov-file#%EF%B8%8F-usage))."
   ]
  },
  {
   "cell_type": "markdown",
   "metadata": {},
   "source": [
    "## **2. Qiskit Quick Check**\n",
    "The following code performs a minimal test of your Qiskit installation by printing the version number of the installed Qiskit SDK. The version number should coincide with the version number you selected during installation, e.g., version ``1.4.2``.\n",
    "- To run this cell, press the run button (&#x25B7;), or click on the cell and press CTRL + ENTER."
   ]
  },
  {
   "cell_type": "code",
   "execution_count": 1,
   "metadata": {},
   "outputs": [
    {
     "name": "stdout",
     "output_type": "stream",
     "text": [
      "2.1.0\n"
     ]
    }
   ],
   "source": [
    "from qiskit import __version__;\n",
    "\n",
    "print(__version__)"
   ]
  },
  {
   "cell_type": "markdown",
   "metadata": {},
   "source": [
    "## **3. Set Up Access to Your IBM Quantum Platform Account**\n",
    "Your account on the IBM Quantum Platform provides you with an API token that can be stored on your local computer (specifically, in your user account). This process is conducted once-and-for-all — it will permanently store the API token on your computer's disk.\n",
    "From there, your Qiskit code can programmatically retrieve the token to\n",
    "authenticate to the IBM Quantum Platform.\n",
    "This is more convenient than manually copy-pasting your API token into every Jupyter notebook that requires access to the IBM Quantum Platform.\n",
    "\n",
    "- **Please note:** For security reasons you should never share your token or a Jupyter notebook or Python code that contains your token. For the same reason you should not store your IBM Quantum Platform API token on a public computer such as a lab PC.\n",
    "\n",
    "The following steps guide you through the set-up of your API token on your local computer.\n",
    "\n",
    "1. Log in to your account on the IBM Quantum Platform (https://quantum.cloud.ibm.com/).\n",
    "   - After login, you are presented with the Quantum Platform **dashboard**.\n",
    "   - In the top-right corner of the dashboard, you find a box titled ``**Create API KEY**''.\n",
    "2. In the API Token box, enter a name for your API key and please click on the square symbol to copy your API\n",
    "  token to the clipboard.\n",
    "   - Return back to this VS Code window.  \n",
    "3. In the Jupyter notebook cell below, **replace the text \"PASTE_YOUR_TOKEN_HERE\"**  by your\n",
    "  API token:\n",
    "   - Delete the text \"PASTE_YOUR_TOKEN_HERE\", but keep the quotes(\"\").\n",
    "   - Place your curser between the quotes and then press CTRL + V to paste your API token.\n",
    "   - Your token should now look similar to \"a2aeae5ad48986d4adadcd5f48z4f8zf4q8fds6fsddaudazd54dd7dz49ad69ad\"\n",
    "4. Create a new instance\n",
    "   - Click on the button create instance of your dashboard\n",
    "   - Name your instance and select your pricing plan\n",
    "   - Finish the setup\n",
    "   - Copy the CRN KEY (you can find it in the dashboard)\n",
    "5. In the Jupyter notebook cell below, **replace the text \"PASTE_YOUR_CRN_HERE\"**  by your\n",
    "  CRN:\n",
    "   - Delete the text \"PASTE_YOUR_CRN_HERE\", but keep the quotes(\"\").\n",
    "   - Place your curser between the quotes and then press CTRL + V to paste your API token.\n",
    "   - Your token should now look similar to \"crn:v1:bluemix:public:quantum-computing:us-east:a/40aaadadazdgyadogadygaxgyhvddu\"\n",
    "6. Save your API token to disk\n",
    "   - The code in the following cell will store your API token on your local computer's disk.\n",
    "   - To run this cell, press the run button (&#x25B7;), or click on the cell and press CTRL + ENTER."
   ]
  },
  {
   "cell_type": "code",
   "execution_count": null,
   "metadata": {},
   "outputs": [],
   "source": [
    "from qiskit_ibm_runtime import QiskitRuntimeService\n",
    "\n",
    "QiskitRuntimeService.save_account(\n",
    "    channel=\"ibm_cloud\", \n",
    "    token=\"PASTE_YOUR_TOKEN_HERE\",\n",
    "    instance=\"PASTE_YOUR_CRN_HERE\",\n",
    "    overwrite=True,\n",
    "    set_as_default=True\n",
    ")"
   ]
  },
  {
   "cell_type": "markdown",
   "metadata": {},
   "source": [
    "## **4. Test Your Qiskit Setup**\n",
    "\n",
    "The following notebook cell will test your Qiskit setup by creating a simple circuit and running it on the IBM Quantum Platform. If all goes well, Qiskit will\n",
    "get back to you with a job id and the result data. \n",
    "\n",
    "- To run this cell, press the run button (&#x25B7;), or click on the cell and press CTRL + ENTER\n",
    "\n",
    "- *It should take at least 30 seconds*"
   ]
  },
  {
   "cell_type": "code",
   "execution_count": null,
   "metadata": {},
   "outputs": [],
   "source": [
    "# Testing setup:\n",
    "from qiskit import QuantumCircuit\n",
    "from qiskit_ibm_runtime import QiskitRuntimeService, SamplerV2 as Sampler\n",
    " \n",
    "# Create empty circuit\n",
    "example_circuit = QuantumCircuit(2)\n",
    "example_circuit.measure_all()\n",
    " \n",
    "# You'll need to specify the credentials when initializing QiskitRuntimeService, if they were not previously saved.\n",
    "service = QiskitRuntimeService()\n",
    "backend = service.least_busy(operational=True, simulator=False)\n",
    " \n",
    "sampler = Sampler(backend)\n",
    "job = sampler.run([example_circuit],shots=1)\n",
    "print(f\"job id: {job.job_id()}\")\n",
    "result = job.result()\n",
    "print(result)"
   ]
  },
  {
   "cell_type": "markdown",
   "metadata": {},
   "source": [
    "## **5. Final Notes**\n",
    "\n",
    "You have now a working Qiskit installation on your local computer.\n",
    "- Please consider saving this Jupyter notebook to somewhere on your local computer in case you want to change your API token at a later time.\n",
    "  - Alternatively, you can always download the latest version of this notebook from our GitHub repository ([link](https://github.com/ket-q/qiskit_windows_installer/tree/main/resources/notebook)).\n",
    "\n",
    "- Upon first use of any Jupyter notebook, you will have to select the correct Python environment as described in Section 1 above.\n",
    "\n",
    "- If you encounter any problems, please refer to our GitHub support section ([link](https://github.com/ket-q/qiskit_windows_installer?tab=readme-ov-file#-faq--support--troubleshooting))."
   ]
  }
 ],
 "metadata": {
  "kernelspec": {
   "display_name": "qiskit_2_1_0",
   "language": "python",
   "name": "python3"
  },
  "language_info": {
   "codemirror_mode": {
    "name": "ipython",
    "version": 3
   },
   "file_extension": ".py",
   "mimetype": "text/x-python",
   "name": "python",
   "nbconvert_exporter": "python",
   "pygments_lexer": "ipython3",
   "version": "3.12.2"
  }
 },
 "nbformat": 4,
 "nbformat_minor": 2
}
